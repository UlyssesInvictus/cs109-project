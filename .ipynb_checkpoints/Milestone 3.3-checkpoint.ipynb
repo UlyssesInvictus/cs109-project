{
 "cells": [
  {
   "cell_type": "code",
   "execution_count": 1,
   "metadata": {
    "collapsed": true
   },
   "outputs": [],
   "source": [
    "import pandas as pd\n",
    "import numpy as np\n",
    "import scipy as sp\n",
    "import matplotlib\n",
    "import matplotlib.pyplot as plt\n",
    "import matplotlib.cm as cmx\n",
    "import matplotlib.colors as colors\n",
    "from mpl_toolkits.mplot3d import Axes3D\n",
    "%matplotlib inline"
   ]
  },
  {
   "cell_type": "code",
   "execution_count": 2,
   "metadata": {
    "collapsed": true
   },
   "outputs": [],
   "source": [
    "national_names = pd.read_csv('Datasets/NationalNames.csv', delimiter = ',', usecols = [1, 2, 3, 4])\n",
    "state_names = pd.read_csv('Datasets/StateNames.csv', delimiter = ',', usecols = [1, 2, 3, 4, 5])"
   ]
  },
  {
   "cell_type": "markdown",
   "metadata": {},
   "source": [
    "## Question 3:  What is the most gender ambiguous name in 2013? 1945?"
   ]
  },
  {
   "cell_type": "code",
   "execution_count": 3,
   "metadata": {
    "collapsed": true
   },
   "outputs": [],
   "source": [
    "# only look at data for 2013 and 1945\n",
    "data_2013 = national_names[national_names['Year'] == 2013]\n",
    "data_1945 = national_names[national_names['Year'] == 1945]"
   ]
  },
  {
   "cell_type": "code",
   "execution_count": 5,
   "metadata": {
    "collapsed": false
   },
   "outputs": [
    {
     "name": "stdout",
     "output_type": "stream",
     "text": [
      "(33203, 4)\n"
     ]
    }
   ],
   "source": [
    "print data_2013.shape"
   ]
  },
  {
   "cell_type": "code",
   "execution_count": 9,
   "metadata": {
    "collapsed": false
   },
   "outputs": [
    {
     "name": "stdout",
     "output_type": "stream",
     "text": [
      "19191\n",
      "14012\n"
     ]
    }
   ],
   "source": [
    "#separating data by gender for 2013 \n",
    "female_2013 = data_2013[data_2013['Gender']=='F']\n",
    "male_2013 = data_2013[data_2013['Gender'] == 'M']\n",
    "print female_2013.shape[0] \n",
    "print male_2013.shape[0]"
   ]
  },
  {
   "cell_type": "code",
   "execution_count": 41,
   "metadata": {
    "collapsed": false
   },
   "outputs": [],
   "source": [
    "#getting the index of the name that appears in both female and male populations\n",
    "ind_matched= []\n",
    "for i in range(male_2013.shape[0]): \n",
    "    matched= female_2013['Name']==male_2013.iloc[i, 0]\n",
    "    ind = matched[matched == True].index\n",
    "    ind_matched.append(ind)"
   ]
  },
  {
   "cell_type": "code",
   "execution_count": 42,
   "metadata": {
    "collapsed": false
   },
   "outputs": [],
   "source": [
    "#getting the true index to extract the action name from complete data set\n",
    "new_ind= []\n",
    "\n",
    "for i in range(len(ind_matched)): \n",
    "    if len(ind_matched[i]) == 1: \n",
    "        new_ind.append(ind_matched[i])"
   ]
  },
  {
   "cell_type": "code",
   "execution_count": 43,
   "metadata": {
    "collapsed": true
   },
   "outputs": [],
   "source": [
    "#extracting list of names that appear in both gender populations from complete data set\n",
    "names_ind_matched = []\n",
    "for i in range(len(new_ind)):\n",
    "    names_ind_matched.append(national_names.iloc[new_ind[i][0],0])"
   ]
  },
  {
   "cell_type": "code",
   "execution_count": 44,
   "metadata": {
    "collapsed": true
   },
   "outputs": [],
   "source": [
    "#Because some names may appear in both populations but be more prevelant in one population, I want to discard those \n",
    "#and only look at the names who appear in both population an equal amount of times. \n",
    "amb_names = []\n",
    "amb_count = []\n",
    "for i in range(len(names_ind_matched)):\n",
    "    value1 = female_2013[female_2013['Name']==names_ind_matched[i]].iloc[:,3] \n",
    "    value2 = male_2013[male_2013['Name']==names_ind_matched[i]].iloc[:,3]\n",
    "    if int(value1) == int(value2): \n",
    "        amb_names.append(names_ind_matched[i])\n",
    "        amb_count.append(int(value1) + int(value2))"
   ]
  },
  {
   "cell_type": "code",
   "execution_count": 45,
   "metadata": {
    "collapsed": false
   },
   "outputs": [
    {
     "name": "stdout",
     "output_type": "stream",
     "text": [
      "Most Gender Ambigious Name in 2013: Arie\n"
     ]
    }
   ],
   "source": [
    "#Now from this subset, I want to extract the name that appears the most \n",
    "ind = amb_count.index(max(amb_count))\n",
    "print 'Most Gender Ambigious Name in 2013:',amb_names[ind]"
   ]
  },
  {
   "cell_type": "code",
   "execution_count": 46,
   "metadata": {
    "collapsed": false
   },
   "outputs": [
    {
     "name": "stdout",
     "output_type": "stream",
     "text": [
      "5243\n",
      "3782\n"
     ]
    }
   ],
   "source": [
    "#separating data by gender for 1945\n",
    "female_1945 = data_1945[data_1945['Gender']=='F']\n",
    "male_1945 = data_1945[data_1945['Gender'] == 'M']\n",
    "print female_1945.shape[0] \n",
    "print male_1945.shape[0]"
   ]
  },
  {
   "cell_type": "code",
   "execution_count": 47,
   "metadata": {
    "collapsed": true
   },
   "outputs": [],
   "source": [
    "#getting the index of the name that appears in both female and male populations\n",
    "ind_matched= []\n",
    "for i in range(male_1945.shape[0]): \n",
    "    matched= female_1945['Name']==male_1945.iloc[i, 0]\n",
    "    ind = matched[matched == True].index\n",
    "    ind_matched.append(ind)\n",
    "        "
   ]
  },
  {
   "cell_type": "code",
   "execution_count": 48,
   "metadata": {
    "collapsed": true
   },
   "outputs": [],
   "source": [
    "#getting the true index to extract the action name from complete data set\n",
    "new_ind= []\n",
    "\n",
    "for i in range(len(ind_matched)): \n",
    "    if len(ind_matched[i]) == 1: \n",
    "        new_ind.append(ind_matched[i])"
   ]
  },
  {
   "cell_type": "code",
   "execution_count": 49,
   "metadata": {
    "collapsed": true
   },
   "outputs": [],
   "source": [
    "#extracting list of names that appear in both gender populations from complete data set\n",
    "names_ind_matched = []\n",
    "for i in range(len(new_ind)):\n",
    "    names_ind_matched.append(national_names.iloc[new_ind[i][0],0])"
   ]
  },
  {
   "cell_type": "code",
   "execution_count": 50,
   "metadata": {
    "collapsed": true
   },
   "outputs": [],
   "source": [
    "#Because some names may appear in both populations but be more prevelant in one population, I want to discard those \n",
    "#and only look at the names who appear in both population an equal amount of times. \n",
    "amb_names = []\n",
    "amb_count = []\n",
    "for i in range(len(names_ind_matched)):\n",
    "    value1 = female_1945[female_1945['Name']==names_ind_matched[i]].iloc[:,3] \n",
    "    value2 = male_1945[male_1945['Name']==names_ind_matched[i]].iloc[:,3]\n",
    "    if int(value1) == int(value2): \n",
    "        amb_names.append(names_ind_matched[i])\n",
    "        amb_count.append(int(value1) + int(value2))"
   ]
  },
  {
   "cell_type": "code",
   "execution_count": 52,
   "metadata": {
    "collapsed": false
   },
   "outputs": [
    {
     "name": "stdout",
     "output_type": "stream",
     "text": [
      "Most Gender Ambigious Name in 1945: Artie\n"
     ]
    }
   ],
   "source": [
    "#Now from this subset, I want to extract the name that appears the most \n",
    "ind = amb_count.index(max(amb_count))\n",
    "print 'Most Gender Ambigious Name in 1945:',amb_names[ind]"
   ]
  }
 ],
 "metadata": {
  "kernelspec": {
   "display_name": "Python [Root]",
   "language": "python",
   "name": "Python [Root]"
  },
  "language_info": {
   "codemirror_mode": {
    "name": "ipython",
    "version": 2
   },
   "file_extension": ".py",
   "mimetype": "text/x-python",
   "name": "python",
   "nbconvert_exporter": "python",
   "pygments_lexer": "ipython2",
   "version": "2.7.12"
  }
 },
 "nbformat": 4,
 "nbformat_minor": 0
}
