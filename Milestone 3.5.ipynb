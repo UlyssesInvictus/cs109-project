{
 "cells": [
  {
   "cell_type": "code",
   "execution_count": 1,
   "metadata": {
    "collapsed": true
   },
   "outputs": [],
   "source": [
    "import pandas as pd\n",
    "import numpy as np\n",
    "import scipy as sp\n",
    "import matplotlib\n",
    "import matplotlib.pyplot as plt\n",
    "import matplotlib.cm as cmx\n",
    "import matplotlib.colors as colors\n",
    "from mpl_toolkits.mplot3d import Axes3D\n",
    "%matplotlib inline"
   ]
  },
  {
   "cell_type": "code",
   "execution_count": 2,
   "metadata": {
    "collapsed": true
   },
   "outputs": [],
   "source": [
    "national_names = pd.read_csv('Datasets/NationalNames.csv', delimiter = ',', usecols = [1, 2, 3, 4])\n",
    "state_names = pd.read_csv('Datasets/StateNames.csv', delimiter = ',', usecols = [1, 2, 3, 4, 5])"
   ]
  },
  {
   "cell_type": "markdown",
   "metadata": {},
   "source": [
    "### Question 5: Can you identify names that may have had an even larger increase or decrease in popularity?"
   ]
  },
  {
   "cell_type": "markdown",
   "metadata": {},
   "source": [
    "#### Comparison of 1880 and 2014 data"
   ]
  },
  {
   "cell_type": "code",
   "execution_count": 3,
   "metadata": {
    "collapsed": true
   },
   "outputs": [],
   "source": [
    "# look at data for 1880 and 2014\n",
    "data_1880 = national_names[national_names['Year'] == 1880]\n",
    "data_2014 = national_names[national_names['Year'] == 2014]"
   ]
  },
  {
   "cell_type": "code",
   "execution_count": 4,
   "metadata": {
    "collapsed": true
   },
   "outputs": [],
   "source": [
    "# build dictionary of names from 1880, values are counts\n",
    "names_1880_dict = {}\n",
    "names = data_1880.iloc[:,0].values\n",
    "counts = data_1880.iloc[:,-1].values\n",
    "for i in range(len(data_1880.index)):\n",
    "    if names[i] not in names_1880_dict:\n",
    "        names_1880_dict[names[i]] = counts[i]\n",
    "    # or increase count\n",
    "    else:\n",
    "        names_1880_dict[names[i]] += counts[i]"
   ]
  },
  {
   "cell_type": "code",
   "execution_count": 6,
   "metadata": {
    "collapsed": true
   },
   "outputs": [],
   "source": [
    "# build dictionary of names from 2014, values are counts\n",
    "names_2014_dict = {}\n",
    "names = data_2014.iloc[:,0].values\n",
    "counts = data_2014.iloc[:,-1].values\n",
    "for i in range(len(data_2014.index)):\n",
    "    if names[i] not in names_2014_dict:\n",
    "        names_2014_dict[names[i]] = counts[i]\n",
    "    # or increase count\n",
    "    else:\n",
    "        names_2014_dict[names[i]] += counts[i]"
   ]
  },
  {
   "cell_type": "code",
   "execution_count": 7,
   "metadata": {
    "collapsed": false
   },
   "outputs": [
    {
     "name": "stdout",
     "output_type": "stream",
     "text": [
      "Name with largest percentage increase in popularity is Natalie ( 141,260.0 %)\n",
      "Name with largest percentage decrease in popularity is Bessie ( -98.62 %)\n"
     ]
    }
   ],
   "source": [
    "# build dictionary of names from both 1880 and 2014, values are percentage changes from 1880-2014\n",
    "names_shared_dict2 = {}\n",
    "names = names_2014_dict.keys()\n",
    "counts = names_2014_dict.values()\n",
    "\n",
    "for i in range(len(names_2014_dict)):\n",
    "    if names[i] in names_1880_dict:\n",
    "        names_shared_dict2[names[i]] = 100*round(float(counts[i] - names_1880_dict[names[i]])/\n",
    "                                                 names_1880_dict[names[i]], 4)\n",
    "\n",
    "# do some processing on dictionary to get largest percentage increase and decrease\n",
    "names_list = names_shared_dict2.items()\n",
    "# sort that list\n",
    "names_list = sorted(names_list, key=lambda x: x[1])\n",
    "\n",
    "print \"Name with largest percentage increase in popularity is\", names_list[-1][0], \\\n",
    "      \"(\", \"{:,}\".format(names_list[-1][1]), \"%)\"\n",
    "print \"Name with largest percentage decrease in popularity is\", names_list[0][0], \\\n",
    "      \"(\", \"{:,}\".format(names_list[0][1]), \"%)\""
   ]
  },
  {
   "cell_type": "markdown",
   "metadata": {},
   "source": [
    "#### Comparison of 1950 and 2014 data"
   ]
  },
  {
   "cell_type": "code",
   "execution_count": 8,
   "metadata": {
    "collapsed": true
   },
   "outputs": [],
   "source": [
    "# load data for 1950\n",
    "data_1950 = national_names[national_names['Year'] == 1950]"
   ]
  },
  {
   "cell_type": "code",
   "execution_count": 9,
   "metadata": {
    "collapsed": true
   },
   "outputs": [],
   "source": [
    "# build dictionary of names from 1950, values are counts\n",
    "names_1950_dict = {}\n",
    "names = data_1950.iloc[:,0].values\n",
    "counts = data_1950.iloc[:,-1].values\n",
    "for i in range(len(data_1950.index)):\n",
    "    if names[i] not in names_1950_dict:\n",
    "        names_1950_dict[names[i]] = counts[i]\n",
    "    # or increase count\n",
    "    else:\n",
    "        names_1950_dict[names[i]] += counts[i]"
   ]
  },
  {
   "cell_type": "code",
   "execution_count": 10,
   "metadata": {
    "collapsed": false
   },
   "outputs": [
    {
     "name": "stdout",
     "output_type": "stream",
     "text": [
      "Name with largest percentage increase in popularity is Liam ( 183,640.0 %)\n",
      "Name with largest percentage decrease in popularity is Gail ( -99.85 %)\n"
     ]
    }
   ],
   "source": [
    "# build dictionary of names from both 1950 and 2014, values are percentage changes from 1950-2014\n",
    "names_shared_dict3 = {}\n",
    "names = names_2014_dict.keys()\n",
    "counts = names_2014_dict.values()\n",
    "\n",
    "for i in range(len(names_2014_dict)):\n",
    "    if names[i] in names_1950_dict:\n",
    "        names_shared_dict3[names[i]] = 100*round(float(counts[i] - names_1950_dict[names[i]])/\n",
    "                                                 names_1950_dict[names[i]], 4)\n",
    "\n",
    "# do some processing on dictionary to get largest percentage increase and decrease\n",
    "names_list = names_shared_dict3.items()\n",
    "# sort that list\n",
    "names_list = sorted(names_list, key=lambda x: x[1])\n",
    "\n",
    "print \"Name with largest percentage increase in popularity is\", names_list[-1][0], \\\n",
    "      \"(\", \"{:,}\".format(names_list[-1][1]), \"%)\"\n",
    "print \"Name with largest percentage decrease in popularity is\", names_list[0][0], \\\n",
    "      \"(\", \"{:,}\".format(names_list[0][1]), \"%)\""
   ]
  }
 ],
 "metadata": {
  "anaconda-cloud": {},
  "kernelspec": {
   "display_name": "Python [Root]",
   "language": "python",
   "name": "Python [Root]"
  },
  "language_info": {
   "codemirror_mode": {
    "name": "ipython",
    "version": 2
   },
   "file_extension": ".py",
   "mimetype": "text/x-python",
   "name": "python",
   "nbconvert_exporter": "python",
   "pygments_lexer": "ipython2",
   "version": "2.7.12"
  }
 },
 "nbformat": 4,
 "nbformat_minor": 0
}
