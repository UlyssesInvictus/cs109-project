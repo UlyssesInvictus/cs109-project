{
 "cells": [
  {
   "cell_type": "code",
   "execution_count": 1,
   "metadata": {
    "collapsed": true
   },
   "outputs": [],
   "source": [
    "import pandas as pd\n",
    "import numpy as np\n",
    "import scipy as sp\n",
    "import matplotlib\n",
    "import matplotlib.pyplot as plt\n",
    "import matplotlib.cm as cmx\n",
    "import matplotlib.colors as colors\n",
    "from mpl_toolkits.mplot3d import Axes3D\n",
    "%matplotlib inline"
   ]
  },
  {
   "cell_type": "code",
   "execution_count": 2,
   "metadata": {
    "collapsed": true
   },
   "outputs": [],
   "source": [
    "national_names = pd.read_csv('Datasets/NationalNames.csv', delimiter = ',', usecols = [1, 2, 3, 4])\n",
    "state_names = pd.read_csv('Datasets/StateNames.csv', delimiter = ',', usecols = [1, 2, 3, 4, 5])"
   ]
  },
  {
   "cell_type": "markdown",
   "metadata": {},
   "source": [
    "### Question 2: What is the most popular name of all time? (Of either gender.)"
   ]
  },
  {
   "cell_type": "code",
   "execution_count": 3,
   "metadata": {
    "collapsed": false
   },
   "outputs": [
    {
     "name": "stdout",
     "output_type": "stream",
     "text": [
      "Most popular name of all time is James with 5,129,096 occurrences\n"
     ]
    }
   ],
   "source": [
    "# build dictionary of names, values are counts\n",
    "names_dict = {}\n",
    "names = national_names.iloc[:,0].values\n",
    "counts = national_names.iloc[:,-1].values\n",
    "for i in range(len(national_names.index)):\n",
    "    if names[i] not in names_dict:\n",
    "        names_dict[names[i]] = counts[i]\n",
    "    # or increase count\n",
    "    else:\n",
    "        names_dict[names[i]] += counts[i]\n",
    "\n",
    "# now do some processing on dict to get most pop name\n",
    "names_list = names_dict.items()\n",
    "\n",
    "# sort the list\n",
    "names_list = sorted(names_list, key=lambda x: x[1])\n",
    "\n",
    "print \"Most popular name of all time is\", names_list[-1][0], \"with\", \"{:,}\".format(names_list[-1][1]), \"occurrences\""
   ]
  }
 ],
 "metadata": {
  "anaconda-cloud": {},
  "kernelspec": {
   "display_name": "Python [Root]",
   "language": "python",
   "name": "Python [Root]"
  },
  "language_info": {
   "codemirror_mode": {
    "name": "ipython",
    "version": 2
   },
   "file_extension": ".py",
   "mimetype": "text/x-python",
   "name": "python",
   "nbconvert_exporter": "python",
   "pygments_lexer": "ipython2",
   "version": "2.7.12"
  }
 },
 "nbformat": 4,
 "nbformat_minor": 0
}
